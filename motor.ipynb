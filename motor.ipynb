{
 "cells": [
  {
   "cell_type": "code",
   "execution_count": null,
   "metadata": {},
   "outputs": [],
   "source": [
    "import pandas as pd\n",
    "import plotly.express as px"
   ]
  },
  {
   "cell_type": "code",
   "execution_count": null,
   "metadata": {},
   "outputs": [],
   "source": [
    "filename = \"Motor.parquet\"\n",
    "df = pd.read_parquet(\"data/\"+filename)"
   ]
  },
  {
   "cell_type": "code",
   "execution_count": null,
   "metadata": {},
   "outputs": [],
   "source": [
    "display(df[df.label == 'NDE Vibration X plane '])\n",
    "display(df[df.label == 'NDE Vibration X plane'])"
   ]
  },
  {
   "cell_type": "code",
   "execution_count": null,
   "metadata": {},
   "outputs": [],
   "source": [
    "df.loc[df[\"label\"] == \"NDE Vibration X plane \", \"label\"] = \"NDE Vibration X plane\""
   ]
  },
  {
   "cell_type": "code",
   "execution_count": null,
   "metadata": {},
   "outputs": [],
   "source": [
    "display(df[df.label == 'NDE Vibration X plane '])\n",
    "display(df[df.label == 'NDE Vibration X plane'])"
   ]
  },
  {
   "cell_type": "code",
   "execution_count": null,
   "metadata": {},
   "outputs": [],
   "source": [
    "df.label.unique()\n",
    "\n",
    "subset_intervals = [[0,1] [1,3], [3,5], [5,8], [8,10]]"
   ]
  },
  {
   "cell_type": "code",
   "execution_count": null,
   "metadata": {},
   "outputs": [],
   "source": [
    "# utils\n",
    "def create_file_name(name):\n",
    "    word_list = ['A', 'X', 'plane', '\"U\"', '\"V\"', '\"W\"', \"Motor\"]\n",
    "    res = '_'.join([idx for idx in name.split() if idx not in word_list]).lower()\n",
    "    return res\n"
   ]
  },
  {
   "cell_type": "code",
   "execution_count": null,
   "metadata": {},
   "outputs": [],
   "source": [
    "labels = df.label.unique()\n",
    "print(labels)\n",
    "\n",
    "for label in labels:\n",
    "    print(create_file_name(label))"
   ]
  }
 ],
 "metadata": {
  "kernelspec": {
   "display_name": "venv",
   "language": "python",
   "name": "python3"
  },
  "language_info": {
   "codemirror_mode": {
    "name": "ipython",
    "version": 3
   },
   "file_extension": ".py",
   "mimetype": "text/x-python",
   "name": "python",
   "nbconvert_exporter": "python",
   "pygments_lexer": "ipython3",
   "version": "3.10.0"
  },
  "orig_nbformat": 4,
  "vscode": {
   "interpreter": {
    "hash": "7a0a07880a3d5eab1f2426989e5fc789c5d14d62c0404ecbe79f270964fac0a3"
   }
  }
 },
 "nbformat": 4,
 "nbformat_minor": 2
}
