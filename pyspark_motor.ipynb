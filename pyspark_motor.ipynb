{
 "cells": [
  {
   "cell_type": "code",
   "execution_count": null,
   "metadata": {},
   "outputs": [],
   "source": [
    "from utils import *\n",
    "import matplotlib.pyplot as plt\n",
    "import seaborn as sns\n",
    "import plotly.express as px\n",
    "import pre_process\n",
    "import constants\n",
    "\n",
    "from pyspark.sql import SparkSession\n",
    "from pyspark.sql.functions import when, lit, to_date"
   ]
  },
  {
   "cell_type": "markdown",
   "metadata": {},
   "source": []
  },
  {
   "cell_type": "code",
   "execution_count": null,
   "metadata": {},
   "outputs": [],
   "source": [
    "motor_subsets = pre_process.run(mode= constants.MOTOR)\n",
    "motor_subsets"
   ]
  },
  {
   "attachments": {},
   "cell_type": "markdown",
   "metadata": {},
   "source": [
    "### Want to check motor failure 2017.05.24"
   ]
  },
  {
   "cell_type": "code",
   "execution_count": null,
   "metadata": {},
   "outputs": [],
   "source": [
    "def filter_time(df, from_date, to_date):\n",
    "    df = df.filter(df['timestamp'] >= from_date)\n",
    "    df = df.filter(df['timestamp'] <= to_date)\n",
    "    return df\n",
    "\n",
    "for df in motor_subsets.keys():\n",
    "    motor_subsets[df] = filter_time(motor_subsets[df], '2017-05-10', '2017-06-01')"
   ]
  },
  {
   "cell_type": "code",
   "execution_count": null,
   "metadata": {},
   "outputs": [],
   "source": [
    "de_bearing_temp = motor_subsets['de_bearing_temp'].toPandas()\n",
    "fig = px.line(de_bearing_temp, x='timestamp', y='data', color='label')\n",
    "fig.show()"
   ]
  },
  {
   "cell_type": "code",
   "execution_count": null,
   "metadata": {},
   "outputs": [],
   "source": [
    "nde_bearing_temp = motor_subsets['nde_bearing_temp'].toPandas()\n",
    "fig = px.line(nde_bearing_temp, x='timestamp', y='data', color='label')\n",
    "fig.show()"
   ]
  },
  {
   "cell_type": "code",
   "execution_count": null,
   "metadata": {},
   "outputs": [],
   "source": [
    "nde_vibration = motor_subsets['nde_vibration'].toPandas()\n",
    "fig = px.line(nde_vibration, x='timestamp', y='data', color='label')\n",
    "fig.show()"
   ]
  },
  {
   "cell_type": "code",
   "execution_count": null,
   "metadata": {},
   "outputs": [],
   "source": [
    "winding_temperature = motor_subsets['winding_temperature'].toPandas()\n",
    "fig = px.line(winding_temperature, x='timestamp', y='data', color='label')\n",
    "fig.show()"
   ]
  },
  {
   "cell_type": "code",
   "execution_count": null,
   "metadata": {},
   "outputs": [],
   "source": [
    "rpm = motor_subsets['rpm'].toPandas()\n",
    "fig = px.line(rpm, x='timestamp', y='data', color='label')\n",
    "fig.show()"
   ]
  },
  {
   "cell_type": "code",
   "execution_count": null,
   "metadata": {},
   "outputs": [],
   "source": [
    "'''spark = SparkSession.builder \\\n",
    "    .config(\"spark.executor.memory\", \"70g\") \\\n",
    "    .config(\"spark.driver.memory\", \"50g\") \\\n",
    "    .config(\"spark.memory.offHeap.enabled\",True) \\\n",
    "    .config(\"spark.memory.offHeap.size\",\"16g\") \\\n",
    "    .appName('Master-thesis') \\\n",
    "    .getOrCreate()\n",
    "\n",
    "motor = spark.read.parquet('data/Aize-student-project-Motor.parquet')\n",
    "motor.show()\n",
    "\n",
    "motor_2023 = motor.filter(\"timestamp > date'2023-01-01'\")\n",
    "motor_2023.show()\n",
    "\n",
    "# motor_2023 = motor_2023.to_pandas_on_spark(['timestamp'])\n",
    "motor_2023 = motor_2023.toPandas()\n",
    "\n",
    "fig = px.line(motor_2023, x='timestamp', y='data', color='label')\n",
    "fig.show()\n",
    "\n",
    "for key in motor_subsets.keys():\n",
    "    fig = px.line(motor_subsets[key].toPandas(), x='timestamp', y='data', color='label')\n",
    "    fig.show()\n",
    "'''"
   ]
  }
 ],
 "metadata": {
  "kernelspec": {
   "display_name": "venv",
   "language": "python",
   "name": "python3"
  },
  "language_info": {
   "codemirror_mode": {
    "name": "ipython",
    "version": 3
   },
   "file_extension": ".py",
   "mimetype": "text/x-python",
   "name": "python",
   "nbconvert_exporter": "python",
   "pygments_lexer": "ipython3",
   "version": "3.10.8"
  },
  "orig_nbformat": 4,
  "vscode": {
   "interpreter": {
    "hash": "985ce886e508a9cd35ff0eada707b21530d6d35872ac30567f69cffd3d678ca7"
   }
  }
 },
 "nbformat": 4,
 "nbformat_minor": 2
}
