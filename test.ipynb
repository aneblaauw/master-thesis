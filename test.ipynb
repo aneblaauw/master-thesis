{
 "cells": [
  {
   "cell_type": "code",
   "execution_count": null,
   "metadata": {},
   "outputs": [],
   "source": [
    "import pandas as pd\n",
    "import seaborn as sns\n",
    "import plotly.express as px"
   ]
  },
  {
   "cell_type": "code",
   "execution_count": null,
   "metadata": {},
   "outputs": [],
   "source": [
    "filename = \"https://xdtaas-my.sharepoint.com/personal/vegard_flovik_aize_io/_layouts/15/onedrive.aspx?ga=1&id=%2Fpersonal%2Fvegard%5Fflovik%5Faize%5Fio%2FDocuments%2Ftechnical%2FNTNU%2FMaster%5FAne%5FTorstein%2FPE%5Fdata%2Fcentrifugal%5Fpump%2Fdata%2FAize%2Dstudet%2Dproject%2Dtime%2Dseries%2Dv2%2Eparquet&parent=%2Fpersonal%2Fvegard%5Fflovik%5Faize%5Fio%2FDocuments%2Ftechnical%2FNTNU%2FMaster%5FAne%5FTorstein%2FPE%5Fdata%2Fcentrifugal%5Fpump%2Fdata\"\n",
    "df = pd.read_parquet(\"data/\"+filename)\n",
    "data = df.loc[(df[\"timestamp\"] > pd.Timestamp('2023-01-01'))]"
   ]
  },
  {
   "cell_type": "code",
   "execution_count": null,
   "metadata": {},
   "outputs": [],
   "source": [
    "data.category.value_counts()"
   ]
  },
  {
   "cell_type": "code",
   "execution_count": null,
   "metadata": {},
   "outputs": [],
   "source": [
    "data.label.value_counts()"
   ]
  },
  {
   "attachments": {},
   "cell_type": "markdown",
   "metadata": {},
   "source": [
    "# Categories"
   ]
  },
  {
   "cell_type": "code",
   "execution_count": null,
   "metadata": {},
   "outputs": [],
   "source": [
    "categories = data.category.unique()\n",
    "print(categories)\n",
    "pump_process= data[data['category'] == categories[0]]\n",
    "motor = data[data['category'] == categories[1]]\n",
    "pump_monitoring = data[data['category'] == categories[2]]"
   ]
  },
  {
   "cell_type": "code",
   "execution_count": null,
   "metadata": {},
   "outputs": [],
   "source": [
    "pump_process.label.value_counts()"
   ]
  },
  {
   "cell_type": "code",
   "execution_count": null,
   "metadata": {},
   "outputs": [],
   "source": [
    "motor.label.value_counts()"
   ]
  },
  {
   "cell_type": "code",
   "execution_count": null,
   "metadata": {},
   "outputs": [],
   "source": [
    "pump_monitoring.loc[(pump_monitoring[\"timestamp\"] > pd.Timestamp('2023-01-01'))].label.value_counts()"
   ]
  },
  {
   "attachments": {},
   "cell_type": "markdown",
   "metadata": {},
   "source": [
    "## Pump Process"
   ]
  },
  {
   "cell_type": "code",
   "execution_count": null,
   "metadata": {},
   "outputs": [],
   "source": [
    "pump_process"
   ]
  },
  {
   "cell_type": "code",
   "execution_count": null,
   "metadata": {},
   "outputs": [],
   "source": [
    "\n",
    "fig = px.line(pump_process, x=\"timestamp\", y=\"data\", color='label')\n",
    "fig.show()"
   ]
  },
  {
   "cell_type": "code",
   "execution_count": null,
   "metadata": {},
   "outputs": [],
   "source": [
    "\n",
    "fig = px.line(motor, x=\"timestamp\", y=\"data\", color='label')\n",
    "fig.show()"
   ]
  },
  {
   "cell_type": "code",
   "execution_count": null,
   "metadata": {},
   "outputs": [],
   "source": [
    "fig = px.line(pump_monitoring, x=\"timestamp\", y=\"data\", color='label')\n",
    "fig.show()"
   ]
  },
  {
   "attachments": {},
   "cell_type": "markdown",
   "metadata": {},
   "source": [
    "# Clustering the different labels"
   ]
  },
  {
   "cell_type": "code",
   "execution_count": null,
   "metadata": {},
   "outputs": [],
   "source": [
    "categories = df.category.unique()\n",
    "print(categories)\n",
    "pump_process= df[df['category'] == categories[0]]\n",
    "motor = df[df['category'] == categories[1]]\n",
    "pump_monitoring = df[df['category'] == categories[2]]"
   ]
  },
  {
   "attachments": {},
   "cell_type": "markdown",
   "metadata": {},
   "source": [
    "## Motor"
   ]
  },
  {
   "cell_type": "code",
   "execution_count": null,
   "metadata": {},
   "outputs": [],
   "source": [
    "def create_subsets(df, subset_intervals):\n",
    "    labels = df.label.unique()\n",
    "    subsets = []\n",
    "    for interval in subset_intervals:\n",
    "        subsets.append(df[df['label'].isin(labels[interval[0]:interval[1]])].set_index('timestamp'))\n",
    "    return subsets\n"
   ]
  },
  {
   "cell_type": "code",
   "execution_count": null,
   "metadata": {},
   "outputs": [],
   "source": [
    "# another approach\n",
    "subset_intervals = [[0,2], [2,4], [4,6], [6,8], [8,12], [12,14]]\n",
    "motor_subsets = create_subsets(motor, subset_intervals)\n",
    "for subset in motor_subsets:\n",
    "    print(subset.label.unique())"
   ]
  },
  {
   "cell_type": "code",
   "execution_count": null,
   "metadata": {},
   "outputs": [],
   "source": [
    "word_list = [' A', ' X plane']\n",
    "name = motor_subsets[0].iloc[0].label\n",
    "for string in replace:\n",
    "    name = name.replace(string, '')\n",
    "name = name.replace(' ', '_')\n",
    "name = name.lower()\n",
    "name\n"
   ]
  },
  {
   "cell_type": "code",
   "execution_count": null,
   "metadata": {},
   "outputs": [],
   "source": [
    "name = motor_subsets[0].iloc[0].label.replace(replace[0], '').replace(' ', '_').lower()\n",
    "name"
   ]
  },
  {
   "cell_type": "code",
   "execution_count": null,
   "metadata": {},
   "outputs": [],
   "source": [
    "word_list = ['A', 'X plane']\n",
    "name = motor_subsets[0].iloc[0].label\n",
    "res = ' '.join(['' if idx in word_list else idx for idx in name.split()][:-1]).replace(' ', '_').lower()\n",
    "res"
   ]
  },
  {
   "cell_type": "code",
   "execution_count": null,
   "metadata": {},
   "outputs": [],
   "source": [
    "res"
   ]
  }
 ],
 "metadata": {
  "kernelspec": {
   "display_name": "venv",
   "language": "python",
   "name": "python3"
  },
  "language_info": {
   "codemirror_mode": {
    "name": "ipython",
    "version": 3
   },
   "file_extension": ".py",
   "mimetype": "text/x-python",
   "name": "python",
   "nbconvert_exporter": "python",
   "pygments_lexer": "ipython3",
   "version": "3.10.0"
  },
  "orig_nbformat": 4,
  "vscode": {
   "interpreter": {
    "hash": "7a0a07880a3d5eab1f2426989e5fc789c5d14d62c0404ecbe79f270964fac0a3"
   }
  }
 },
 "nbformat": 4,
 "nbformat_minor": 2
}
