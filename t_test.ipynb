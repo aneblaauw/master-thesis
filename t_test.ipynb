{
 "cells": [
  {
   "cell_type": "code",
   "execution_count": null,
   "metadata": {},
   "outputs": [],
   "source": [
    "import pandas as pd\n",
    "import numpy as np"
   ]
  },
  {
   "cell_type": "code",
   "execution_count": null,
   "metadata": {},
   "outputs": [],
   "source": [
    "#df = pd.read_parquet('data/Aize-studet-project-time-series.parquet')"
   ]
  },
  {
   "cell_type": "code",
   "execution_count": null,
   "metadata": {},
   "outputs": [],
   "source": [
    "#df = df.set_index('timestamp')"
   ]
  },
  {
   "cell_type": "code",
   "execution_count": null,
   "metadata": {},
   "outputs": [],
   "source": [
    "'''dataframes = {}\n",
    "\n",
    "for cat in df['category'].unique():\n",
    "    df[df['category'] == cat].to_parquet(f'data/{cat}.parquet')\n",
    "    #dataframes[cat] = df[df['category'] == cat]\n",
    "\n",
    "motor = dataframes['Motor']\n",
    "pump_process = dataframes['Pump Process']\n",
    "pump_monitoring = dataframes['Pump Monitoring (BN)']'''"
   ]
  },
  {
   "cell_type": "code",
   "execution_count": null,
   "metadata": {},
   "outputs": [],
   "source": [
    "motor = pd.read_parquet('data/motor.parquet')\n",
    "motor = motor.reset_index()"
   ]
  },
  {
   "cell_type": "code",
   "execution_count": null,
   "metadata": {},
   "outputs": [],
   "source": [
    "motor.head()"
   ]
  },
  {
   "cell_type": "code",
   "execution_count": null,
   "metadata": {},
   "outputs": [],
   "source": [
    "sensor_list = pd.read_csv('data/sensor_list.txt', sep=':', header=None)\n",
    "sensor_list.columns = ['label', 'sampling time']\n",
    "sensor_list['label'] = sensor_list['label'].str[:-14] # remove the \" sampling time\"\n",
    "sensor_list['sampling time'] = sensor_list['sampling time'].str[:-8].astype('float64')\n",
    "\n",
    "def category(row):\n",
    "    if 'Pump Process' in row['label']:\n",
    "        return 'Pump Process'\n",
    "    elif 'Motor' in row['label']:\n",
    "        return 'Motor'\n",
    "    else:\n",
    "        return 'Pump Monitoring (BN)'\n",
    "\n",
    "def re_label(row, categories):\n",
    "    for category in categories:\n",
    "        if category in row['label']:\n",
    "            return row['label'].replace(category+' ','')\n",
    "\n",
    "\n",
    "sensor_list['category'] = sensor_list.apply(lambda row : category(row), axis=1)\n",
    "sensor_list['label'] = sensor_list.apply(lambda row : re_label(row, sensor_list['category'].unique()), axis=1)\n",
    "sensor_list.loc[sensor_list['label'] == \"RPM\", \"label\"] = 'Motor RPM'\n",
    "sensor_list = sensor_list.drop(['category'],axis=1)\n",
    "#display(sensor_list['label'].unique())\n",
    "#display(motor['label'].unique())\n",
    "motor = pd.merge(motor, sensor_list, on='label')"
   ]
  },
  {
   "cell_type": "code",
   "execution_count": null,
   "metadata": {},
   "outputs": [],
   "source": [
    "motor = motor.set_index('timestamp')"
   ]
  },
  {
   "cell_type": "code",
   "execution_count": null,
   "metadata": {},
   "outputs": [],
   "source": [
    "motor = motor.loc[(motor.index >= pd.Timestamp('2023-01-01'))]\n",
    "motor"
   ]
  },
  {
   "cell_type": "code",
   "execution_count": null,
   "metadata": {},
   "outputs": [],
   "source": [
    "'''for key in dataframes.keys():\n",
    "    print(f'The value counts of {key}:')\n",
    "    display(dataframes[key]['label'].value_counts())'''"
   ]
  },
  {
   "cell_type": "code",
   "execution_count": null,
   "metadata": {},
   "outputs": [],
   "source": [
    "import plotly.express as px\n",
    "\n",
    "fig = px.line(motor, x=motor.index, y='data', color='label')\n",
    "fig.show()"
   ]
  }
 ],
 "metadata": {
  "kernelspec": {
   "display_name": "venv",
   "language": "python",
   "name": "python3"
  },
  "language_info": {
   "codemirror_mode": {
    "name": "ipython",
    "version": 3
   },
   "file_extension": ".py",
   "mimetype": "text/x-python",
   "name": "python",
   "nbconvert_exporter": "python",
   "pygments_lexer": "ipython3",
   "version": "3.10.8"
  },
  "orig_nbformat": 4,
  "vscode": {
   "interpreter": {
    "hash": "985ce886e508a9cd35ff0eada707b21530d6d35872ac30567f69cffd3d678ca7"
   }
  }
 },
 "nbformat": 4,
 "nbformat_minor": 2
}
