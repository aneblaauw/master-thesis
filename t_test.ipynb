{
 "cells": [
  {
   "cell_type": "code",
   "execution_count": null,
   "metadata": {},
   "outputs": [],
   "source": [
    "import pandas as pd\n",
    "import numpy as np\n",
    "import constants"
   ]
  },
  {
   "cell_type": "code",
   "execution_count": null,
   "metadata": {},
   "outputs": [],
   "source": [
    "df = pd.read_parquet('data/Aize-studet-project-time-series-v2.parquet')"
   ]
  },
  {
   "cell_type": "code",
   "execution_count": null,
   "metadata": {},
   "outputs": [],
   "source": [
    "df = df.set_index('timestamp')"
   ]
  },
  {
   "cell_type": "code",
   "execution_count": null,
   "metadata": {},
   "outputs": [],
   "source": [
    "df.head()"
   ]
  },
  {
   "cell_type": "code",
   "execution_count": null,
   "metadata": {},
   "outputs": [],
   "source": [
    "dataframes = {}\n",
    "\n",
    "for cat in df['category'].unique():\n",
    "    df[df['category'] == cat].to_parquet(f'data/{cat}.parquet')\n",
    "    #dataframes[cat] = df[df['category'] == cat]\n",
    "\n",
    "motor = dataframes['Motor']\n",
    "pump_process = dataframes['Pump Process']\n",
    "pump_monitoring = dataframes['Pump Monitoring (BN)']"
   ]
  },
  {
   "cell_type": "code",
   "execution_count": null,
   "metadata": {},
   "outputs": [],
   "source": [
    "motor = pd.read_parquet('data/motor.parquet')\n",
    "motor = motor.reset_index()"
   ]
  },
  {
   "cell_type": "code",
   "execution_count": null,
   "metadata": {},
   "outputs": [],
   "source": [
    "motor.head()"
   ]
  },
  {
   "cell_type": "code",
   "execution_count": null,
   "metadata": {},
   "outputs": [],
   "source": [
    "sensor_list = pd.read_csv('data/sensor_list_v2.txt', sep=':', header=None, names=['label', 'sampling time'])\n",
    "sensor_units = pd.read_csv('data/sensor_units.txt', sep='delimiter', header=None, names=['unit'])\n",
    "sensor_list['unit'] = sensor_units['unit'].str.split().str[-1]\n",
    "\n",
    "sensor_list['label'] = sensor_list['label'].str[:-22] # remove the \" average sampling time\"\n",
    "sensor_list['sampling time'] = sensor_list['sampling time'].str[:-8].astype('float64')\n",
    "\n",
    "def category(row):\n",
    "    for cat in constants.CATEGORIES: \n",
    "        if cat in row['label']:\n",
    "            return cat\n",
    "\n",
    "def re_label(row):\n",
    "    for category in constants.CATEGORIES:\n",
    "        if category in row['label']:\n",
    "            return row['label'].replace(category+' ','')\n",
    "\n",
    "sensor_list['category'] = sensor_list.apply(lambda row : category(row), axis=1)\n",
    "sensor_list['label'] = sensor_list.apply(lambda row : re_label(row), axis=1)\n",
    "sensor_list.loc[sensor_list['label'] == \"RPM\", \"label\"] = 'Motor RPM'\n",
    "#sensor_list = sensor_list.drop(['category'],axis=1)\n",
    "display(sensor_list)\n",
    "#display(motor['label'].unique())\n",
    "#motor = pd.merge(motor, sensor_list, on='label')"
   ]
  },
  {
   "cell_type": "code",
   "execution_count": null,
   "metadata": {},
   "outputs": [],
   "source": [
    "motor = motor.set_index('timestamp')"
   ]
  },
  {
   "cell_type": "code",
   "execution_count": null,
   "metadata": {},
   "outputs": [],
   "source": [
    "motor = motor.loc[(motor.index >= pd.Timestamp('2023-01-01'))]\n",
    "motor"
   ]
  },
  {
   "cell_type": "code",
   "execution_count": null,
   "metadata": {},
   "outputs": [],
   "source": [
    "'''for key in dataframes.keys():\n",
    "    print(f'The value counts of {key}:')\n",
    "    display(dataframes[key]['label'].value_counts())'''"
   ]
  },
  {
   "cell_type": "code",
   "execution_count": null,
   "metadata": {},
   "outputs": [],
   "source": [
    "import plotly.express as px\n",
    "\n",
    "fig = px.line(motor, x=motor.index, y='data', color='label')\n",
    "fig.show()"
   ]
  }
 ],
 "metadata": {
  "kernelspec": {
   "display_name": "venv",
   "language": "python",
   "name": "python3"
  },
  "language_info": {
   "codemirror_mode": {
    "name": "ipython",
    "version": 3
   },
   "file_extension": ".py",
   "mimetype": "text/x-python",
   "name": "python",
   "nbconvert_exporter": "python",
   "pygments_lexer": "ipython3",
   "version": "3.10.8"
  },
  "orig_nbformat": 4,
  "vscode": {
   "interpreter": {
    "hash": "985ce886e508a9cd35ff0eada707b21530d6d35872ac30567f69cffd3d678ca7"
   }
  }
 },
 "nbformat": 4,
 "nbformat_minor": 2
}
