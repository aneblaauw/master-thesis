{
 "cells": [
  {
   "cell_type": "code",
   "execution_count": null,
   "metadata": {},
   "outputs": [],
   "source": [
    "import pandas as pd\n",
    "import numpy as np"
   ]
  },
  {
   "cell_type": "code",
   "execution_count": null,
   "metadata": {},
   "outputs": [],
   "source": [
    "df = pd.read_parquet('data/Aize-studet-project-time-series.parquet')\n",
    "df"
   ]
  },
  {
   "cell_type": "code",
   "execution_count": null,
   "metadata": {},
   "outputs": [],
   "source": [
    "df = df.set_index('timestamp')\n",
    "df"
   ]
  },
  {
   "cell_type": "code",
   "execution_count": null,
   "metadata": {},
   "outputs": [],
   "source": [
    "sensor_list = pd.read_csv('data/sensor_list.txt', sep=':', header=None)\n",
    "sensor_list.columns = ['label', 'sampling time']\n",
    "sensor_list['label'] = sensor_list['label'].str[:-14] # remove the \" sampling time\"\n",
    "\n",
    "\n",
    "sensor_list.head()"
   ]
  },
  {
   "cell_type": "code",
   "execution_count": null,
   "metadata": {},
   "outputs": [],
   "source": [
    "df2023 = df.loc[(df.index >= pd.Timestamp('2023-01-01'))]\n",
    "df2023"
   ]
  },
  {
   "cell_type": "code",
   "execution_count": null,
   "metadata": {},
   "outputs": [],
   "source": [
    "dataframes = {}\n",
    "\n",
    "for cat in df2023['category'].unique():\n",
    "   dataframes[cat] = df2023[df2023['category'] == cat]\n",
    "\n",
    "motor = dataframes['Motor']\n",
    "pump_process = dataframes['Pump Process']\n",
    "pump_monitoring = dataframes['Pump Monitoring (BN)']"
   ]
  },
  {
   "cell_type": "code",
   "execution_count": null,
   "metadata": {},
   "outputs": [],
   "source": [
    "for key in dataframes.keys():\n",
    "    print(f'The value counts of {key}:')\n",
    "    display(dataframes[key]['label'].value_counts())"
   ]
  },
  {
   "cell_type": "code",
   "execution_count": null,
   "metadata": {},
   "outputs": [],
   "source": [
    "import plotly.express as px\n",
    "\n",
    "fig = px.line(motor, x=motor.index, y='data', color='label')\n",
    "fig.show()"
   ]
  }
 ],
 "metadata": {
  "kernelspec": {
   "display_name": "venv",
   "language": "python",
   "name": "python3"
  },
  "language_info": {
   "codemirror_mode": {
    "name": "ipython",
    "version": 3
   },
   "file_extension": ".py",
   "mimetype": "text/x-python",
   "name": "python",
   "nbconvert_exporter": "python",
   "pygments_lexer": "ipython3",
   "version": "3.10.8"
  },
  "orig_nbformat": 4,
  "vscode": {
   "interpreter": {
    "hash": "985ce886e508a9cd35ff0eada707b21530d6d35872ac30567f69cffd3d678ca7"
   }
  }
 },
 "nbformat": 4,
 "nbformat_minor": 2
}
