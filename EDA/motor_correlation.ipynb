{
 "cells": [
  {
   "cell_type": "code",
   "execution_count": null,
   "metadata": {},
   "outputs": [],
   "source": [
    "import pandas as pd\n",
    "import numpy as np\n",
    "from pyspark.sql.functions import when, lit, to_date\n",
    "import plotly.graph_objects as go\n",
    "\n",
    "import sys\n",
    "sys.path.append('../')\n",
    "import pre_process\n",
    "import constants\n",
    "import utils\n"
   ]
  },
  {
   "attachments": {},
   "cell_type": "markdown",
   "metadata": {},
   "source": [
    "# Motor EDA"
   ]
  },
  {
   "cell_type": "code",
   "execution_count": null,
   "metadata": {},
   "outputs": [],
   "source": [
    "period_start = '2017-03-01'\n",
    "period_end = '2017-09-01'\n",
    "\n",
    "notification_df = pre_process.create_notifications_df(local_path='../')\n",
    "del notification_df['endTime']\n",
    "\n",
    "# only want dates between '2017-03-01' and '2017-09-01'\n",
    "filtered_notification_df = notification_df[(notification_df['startTime'] >= pd.to_datetime(period_start)) & (notification_df['startTime'] <= pd.to_datetime(period_end))]\n",
    "filtered_notification_df"
   ]
  },
  {
   "cell_type": "code",
   "execution_count": null,
   "metadata": {},
   "outputs": [],
   "source": [
    "motor_subsets = pre_process.run(mode=constants.MOTOR, local_path='../')\n",
    "print(motor_subsets.keys())"
   ]
  },
  {
   "attachments": {},
   "cell_type": "markdown",
   "metadata": {},
   "source": [
    "# DE Bearing Temp"
   ]
  },
  {
   "cell_type": "code",
   "execution_count": null,
   "metadata": {},
   "outputs": [],
   "source": [
    "de_bearing_temp = pre_process.filter_and_resample(motor_subsets['de_bearing_temp'])"
   ]
  },
  {
   "cell_type": "code",
   "execution_count": null,
   "metadata": {},
   "outputs": [],
   "source": [
    "utils.plot_with_not(de_bearing_temp, filtered_notification_df)"
   ]
  },
  {
   "attachments": {},
   "cell_type": "markdown",
   "metadata": {},
   "source": [
    "# Winding Temperature"
   ]
  },
  {
   "cell_type": "code",
   "execution_count": null,
   "metadata": {},
   "outputs": [],
   "source": [
    "winding_temperature = pre_process.filter_and_resample(motor_subsets['winding_temperature'])"
   ]
  },
  {
   "cell_type": "code",
   "execution_count": null,
   "metadata": {},
   "outputs": [],
   "source": [
    "utils.plot_with_not(winding_temperature, filtered_notification_df)"
   ]
  },
  {
   "attachments": {},
   "cell_type": "markdown",
   "metadata": {},
   "source": [
    "# NDE Bearing Temp"
   ]
  },
  {
   "cell_type": "code",
   "execution_count": null,
   "metadata": {},
   "outputs": [],
   "source": [
    "nde_bearing_temp = pre_process.filter_and_resample(motor_subsets['nde_bearing_temp'])"
   ]
  },
  {
   "cell_type": "code",
   "execution_count": null,
   "metadata": {},
   "outputs": [],
   "source": [
    "utils.plot_with_not(nde_bearing_temp, filtered_notification_df)"
   ]
  },
  {
   "attachments": {},
   "cell_type": "markdown",
   "metadata": {},
   "source": [
    "# NDE Vibration"
   ]
  },
  {
   "cell_type": "code",
   "execution_count": null,
   "metadata": {},
   "outputs": [],
   "source": [
    "nde_vibration = pre_process.filter_and_resample(motor_subsets['nde_vibration'])"
   ]
  },
  {
   "cell_type": "code",
   "execution_count": null,
   "metadata": {},
   "outputs": [],
   "source": [
    "utils.plot_with_not(nde_vibration, filtered_notification_df)"
   ]
  },
  {
   "attachments": {},
   "cell_type": "markdown",
   "metadata": {},
   "source": [
    "# RPM"
   ]
  },
  {
   "cell_type": "code",
   "execution_count": null,
   "metadata": {},
   "outputs": [],
   "source": [
    "rpm = pre_process.filter_and_resample(motor_subsets['rpm'])"
   ]
  },
  {
   "cell_type": "code",
   "execution_count": null,
   "metadata": {},
   "outputs": [],
   "source": [
    "utils.plot_with_not(rpm, filtered_notification_df)"
   ]
  },
  {
   "cell_type": "code",
   "execution_count": null,
   "metadata": {},
   "outputs": [],
   "source": [
    "from functools import reduce\n",
    "\n",
    "def clean_motor_off(df_sensor_list):\n",
    "    df_merged = reduce(lambda  left,right: pd.merge(left,right,on=['timestamp'], how='outer'), df_sensor_list)\n",
    "\n",
    "    for col in df_merged.columns:\n",
    "        df_merged[col] = df_merged.apply(lambda row: np.NaN if row['rpm'] == 0 else row[col], axis=1).interpolate() # method='polynomial', order=2\n",
    "        \n",
    "    return df_merged"
   ]
  },
  {
   "cell_type": "code",
   "execution_count": null,
   "metadata": {},
   "outputs": [],
   "source": [
    "df = clean_motor_off([de_bearing_temp, nde_bearing_temp, nde_vibration, winding_temperature, rpm])\n",
    "df.head()"
   ]
  },
  {
   "cell_type": "code",
   "execution_count": null,
   "metadata": {},
   "outputs": [],
   "source": [
    "utils.plot_with_not(df, filtered_notification_df)"
   ]
  },
  {
   "cell_type": "code",
   "execution_count": null,
   "metadata": {},
   "outputs": [],
   "source": [
    "df.tail()"
   ]
  },
  {
   "cell_type": "code",
   "execution_count": null,
   "metadata": {},
   "outputs": [],
   "source": [
    "compact_df = pd.DataFrame()\n",
    "\n",
    "'''def merge_sensors(column_name, row):\n",
    "    compact_df[column_name] = df.apply(lambda row : (row[column_name+' A']+row['DE Bearing Temp B'])/2, axis=1)'''\n",
    "\n",
    "compact_df['DE Bearing Temp'] = df.apply(lambda row : (row['DE Bearing Temp A']+row['DE Bearing Temp B'])/2, axis=1)\n",
    "compact_df['NDE Bearing Temp'] = df.apply(lambda row : (row['NDE Bearing Temp A']+row['NDE Bearing Temp B'])/2, axis=1)\n",
    "compact_df['NDE Vibration'] = df.apply(lambda row : (row['NDE Vibration X plane']+row['NDE Vibration Y plane']+row['NDE Vibration X plane '])/3, axis=1)\n",
    "compact_df['Winding Temperature'] = df.apply(lambda row : (row['Winding \"U\" Temperature']+row['Winding \"V\" Temperature']+row['Winding \"W\" Temperature'])/3, axis=1)\n",
    "compact_df['rpm'] = df['rpm']\n",
    "\n",
    "\n",
    "\n",
    "compact_df.tail()"
   ]
  },
  {
   "cell_type": "code",
   "execution_count": null,
   "metadata": {},
   "outputs": [],
   "source": [
    "import plotly.express as px\n",
    "\n",
    "fig = px.imshow(compact_df.corr())\n",
    "fig.show()"
   ]
  },
  {
   "cell_type": "code",
   "execution_count": null,
   "metadata": {},
   "outputs": [],
   "source": []
  }
 ],
 "metadata": {
  "kernelspec": {
   "display_name": "venv",
   "language": "python",
   "name": "python3"
  },
  "language_info": {
   "codemirror_mode": {
    "name": "ipython",
    "version": 3
   },
   "file_extension": ".py",
   "mimetype": "text/x-python",
   "name": "python",
   "nbconvert_exporter": "python",
   "pygments_lexer": "ipython3",
   "version": "3.10.8"
  },
  "orig_nbformat": 4,
  "vscode": {
   "interpreter": {
    "hash": "985ce886e508a9cd35ff0eada707b21530d6d35872ac30567f69cffd3d678ca7"
   }
  }
 },
 "nbformat": 4,
 "nbformat_minor": 2
}
