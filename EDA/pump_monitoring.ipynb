{
 "cells": [
  {
   "cell_type": "code",
   "execution_count": null,
   "metadata": {},
   "outputs": [],
   "source": [
    "import pandas as pd\n",
    "from pyspark.sql.functions import when, lit, to_date\n",
    "import plotly.graph_objects as go\n",
    "\n",
    "import sys\n",
    "sys.path.append('../')\n",
    "import pre_process\n",
    "import constants\n",
    "import utils"
   ]
  },
  {
   "attachments": {},
   "cell_type": "markdown",
   "metadata": {},
   "source": [
    "# Pump Monitoring EDA"
   ]
  },
  {
   "cell_type": "code",
   "execution_count": null,
   "metadata": {},
   "outputs": [],
   "source": [
    "period_start = '2017-03-01'\n",
    "period_end = '2017-09-01'\n",
    "\n",
    "notification_df = pre_process.create_notifications_df(local_path='../')\n",
    "del notification_df['endTime']\n",
    "\n",
    "# only want dates between '2017-03-01' and '2017-09-01'\n",
    "filtered_notification_df = notification_df[(notification_df['startTime'] >= pd.to_datetime(period_start)) & (notification_df['startTime'] <= pd.to_datetime(period_end))]\n",
    "filtered_notification_df"
   ]
  },
  {
   "cell_type": "code",
   "execution_count": null,
   "metadata": {},
   "outputs": [],
   "source": [
    "df = pre_process.run(mode=constants.PUMP_MONITORING, local_path='../')\n",
    "print(df.keys())"
   ]
  },
  {
   "attachments": {},
   "cell_type": "markdown",
   "metadata": {},
   "source": [
    "# Inlet Bearing Temperature"
   ]
  },
  {
   "cell_type": "code",
   "execution_count": null,
   "metadata": {},
   "outputs": [],
   "source": [
    "key = 'inlet_bearing_temperature'\n",
    "subset = pre_process.filter_and_resample(df[key], start_date=period_start, end_date=period_end)\n",
    "utils.plot_with_not(subset, filtered_notification_df)"
   ]
  },
  {
   "attachments": {},
   "cell_type": "markdown",
   "metadata": {},
   "source": [
    "# Inlet Shaft Vibration"
   ]
  },
  {
   "cell_type": "code",
   "execution_count": null,
   "metadata": {},
   "outputs": [],
   "source": [
    "key = 'inlet_shaft_vibration'\n",
    "subset = pre_process.filter_and_resample(df[key], start_date=period_start, end_date=period_end)\n",
    "utils.plot_with_not(subset, filtered_notification_df)"
   ]
  },
  {
   "attachments": {},
   "cell_type": "markdown",
   "metadata": {},
   "source": [
    "# Outlet Bearing Temperature"
   ]
  },
  {
   "cell_type": "code",
   "execution_count": null,
   "metadata": {},
   "outputs": [],
   "source": [
    "key = 'outlet_bearing_temperature'\n",
    "subset = pre_process.filter_and_resample(df[key], start_date=period_start, end_date=period_end)\n",
    "utils.plot_with_not(subset, filtered_notification_df)"
   ]
  },
  {
   "attachments": {},
   "cell_type": "markdown",
   "metadata": {},
   "source": [
    "# Outlet Shaft Vibration"
   ]
  },
  {
   "cell_type": "code",
   "execution_count": null,
   "metadata": {},
   "outputs": [],
   "source": [
    "key = 'outlet_shaft_vibration'\n",
    "subset = pre_process.filter_and_resample(df[key], start_date=period_start, end_date=period_end)\n",
    "utils.plot_with_not(subset, filtered_notification_df)"
   ]
  },
  {
   "attachments": {},
   "cell_type": "markdown",
   "metadata": {},
   "source": [
    "# Thrust Bearing Temperature"
   ]
  },
  {
   "cell_type": "code",
   "execution_count": null,
   "metadata": {},
   "outputs": [],
   "source": [
    "key = 'thrust_bearing_temperature'\n",
    "subset = pre_process.filter_and_resample(df[key], start_date=period_start, end_date=period_end)\n",
    "utils.plot_with_not(subset, filtered_notification_df)"
   ]
  },
  {
   "attachments": {},
   "cell_type": "markdown",
   "metadata": {},
   "source": [
    "# Thrust Vibration"
   ]
  },
  {
   "cell_type": "code",
   "execution_count": null,
   "metadata": {},
   "outputs": [],
   "source": [
    "key = 'thrust_vibration'\n",
    "subset = pre_process.filter_and_resample(df[key], start_date=period_start, end_date=period_end)\n",
    "utils.plot_with_not(subset, filtered_notification_df)"
   ]
  }
 ],
 "metadata": {
  "kernelspec": {
   "display_name": "venv",
   "language": "python",
   "name": "python3"
  },
  "language_info": {
   "codemirror_mode": {
    "name": "ipython",
    "version": 3
   },
   "file_extension": ".py",
   "mimetype": "text/x-python",
   "name": "python",
   "nbconvert_exporter": "python",
   "pygments_lexer": "ipython3",
   "version": "3.10.0"
  },
  "orig_nbformat": 4,
  "vscode": {
   "interpreter": {
    "hash": "7a0a07880a3d5eab1f2426989e5fc789c5d14d62c0404ecbe79f270964fac0a3"
   }
  }
 },
 "nbformat": 4,
 "nbformat_minor": 2
}
