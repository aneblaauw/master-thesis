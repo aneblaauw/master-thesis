{
 "cells": [
  {
   "cell_type": "code",
   "execution_count": null,
   "metadata": {},
   "outputs": [],
   "source": [
    "import pandas as pd\n",
    "import seaborn as sns\n",
    "import plotly.express as px"
   ]
  },
  {
   "cell_type": "code",
   "execution_count": null,
   "metadata": {},
   "outputs": [],
   "source": [
    "filename = \"IAA_29PA0002_and_children_notifications_m2.xlsx\"\n",
    "df = pd.read_excel(\"data/\"+filename)"
   ]
  },
  {
   "cell_type": "code",
   "execution_count": null,
   "metadata": {},
   "outputs": [],
   "source": [
    "new_columns = df.columns[0].split(',')[1:]# first will be index\n",
    "new_columns.remove('metadata')\n",
    "print(new_columns)"
   ]
  },
  {
   "cell_type": "code",
   "execution_count": null,
   "metadata": {},
   "outputs": [],
   "source": [
    "# read string and split\n",
    "# split on , except for metadata \"{}\"\n",
    "\n",
    "string = df.iloc[7,0]\n",
    "import re\n",
    "def split_string(string):\n",
    "    split_string = re.split('[{}]', string)\n",
    "    metadata = split_string[1] # waiting with metadata\n",
    "    res = (split_string[0][:-2] + ',' + split_string[2][2:]).split(',')[1:]\n",
    "    print(len(res))\n",
    "    if len(res) == 13:\n",
    "        print('problem')\n",
    "        print(string)\n",
    "        print(res)\n",
    "        res[6:8] = [' '.join(res[6:8])]\n",
    "        print(res)\n",
    "    return res\n",
    "\n",
    "row = split_string(string)\n",
    "#print(row)\n",
    "#print(len(row))\n",
    "#print(len(new_columns))"
   ]
  },
  {
   "cell_type": "code",
   "execution_count": null,
   "metadata": {},
   "outputs": [],
   "source": [
    "# preparing new dataframe\n",
    "new_columns = df.columns[0].split(',')[1:]# first will be index\n",
    "new_columns.remove('metadata')\n",
    "notifications_df = pd.DataFrame(columns=new_columns)\n",
    "\n",
    "# iterate through \n",
    "for i in range(len(df)):\n",
    "    string = df.iloc[i][0]\n",
    "    row = split_string(string)\n",
    "    notifications_df.loc[len(notifications_df)] = row\n",
    "notifications_df"
   ]
  },
  {
   "cell_type": "code",
   "execution_count": null,
   "metadata": {},
   "outputs": [],
   "source": [
    "# translate integer timestamp to datetime\n"
   ]
  },
  {
   "cell_type": "code",
   "execution_count": null,
   "metadata": {},
   "outputs": [],
   "source": [
    "import datetime\n",
    "import re\n",
    "\n",
    "def split_string(string):\n",
    "    split_string = re.split('[{}]', string)\n",
    "    # metadata = split_string[1] # waiting with metadata\n",
    "    res = (split_string[0][:-2] + ',' + split_string[2][2:]).split(',')[1:]\n",
    "    if len(res) == 13:\n",
    "        res[6:8] = [' '.join(res[6:8])]\n",
    "    return res\n",
    "\n",
    "\n",
    "def create_notifications_df():\n",
    "    filename = \"IAA_29PA0002_and_children_notifications_m2.xlsx\"\n",
    "    df = pd.read_excel(\"data/\"+filename)\n",
    "    \n",
    "    new_columns = df.columns[0].split(',')[1:]# first will be index\n",
    "    new_columns.remove('metadata')\n",
    "    notifications_df = pd.DataFrame(columns=new_columns)\n",
    "\n",
    "    # iterate through \n",
    "    for i in range(len(df)):\n",
    "        string = df.iloc[i][0]\n",
    "        row = split_string(string)\n",
    "        notifications_df.loc[len(notifications_df)] = row\n",
    "\n",
    "    \n",
    "    # translating timestamps to datetime\n",
    "    time_columns = [column for column in notifications_df.columns if 'Time' in column ]\n",
    "    for column in time_columns:\n",
    "        notifications_df[column] = notifications_df[column].apply(lambda timestamp: datetime.datetime.fromtimestamp(int(timestamp) / 1e3))\n",
    "    return notifications_df\n",
    "\n",
    "    \n",
    "    "
   ]
  },
  {
   "cell_type": "code",
   "execution_count": null,
   "metadata": {},
   "outputs": [],
   "source": [
    "from pre_process import create_notifications_df\n",
    "\n",
    "notification_df = create_notifications_df()\n",
    "notification_df"
   ]
  }
 ],
 "metadata": {
  "kernelspec": {
   "display_name": "venv",
   "language": "python",
   "name": "python3"
  },
  "language_info": {
   "codemirror_mode": {
    "name": "ipython",
    "version": 3
   },
   "file_extension": ".py",
   "mimetype": "text/x-python",
   "name": "python",
   "nbconvert_exporter": "python",
   "pygments_lexer": "ipython3",
   "version": "3.10.0"
  },
  "orig_nbformat": 4,
  "vscode": {
   "interpreter": {
    "hash": "7a0a07880a3d5eab1f2426989e5fc789c5d14d62c0404ecbe79f270964fac0a3"
   }
  }
 },
 "nbformat": 4,
 "nbformat_minor": 2
}
