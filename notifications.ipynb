{
 "cells": [
  {
   "cell_type": "code",
   "execution_count": null,
   "metadata": {},
   "outputs": [],
   "source": [
    "import pandas as pd\n",
    "import seaborn as sns\n",
    "import datetime\n",
    "import pre_process\n",
    "import constants\n",
    "import utils\n",
    "from pyspark.sql.functions import when, lit, to_date"
   ]
  },
  {
   "cell_type": "code",
   "execution_count": null,
   "metadata": {},
   "outputs": [],
   "source": [
    "period_start = '2017-03-01'\n",
    "period_end = '2017-09-01'\n",
    "\n",
    "notification_df = pre_process.create_notifications_df()\n",
    "del notification_df['endTime']\n",
    "\n",
    "# only want dates between '2017-03-01' and '2017-09-01'\n",
    "filtered_notification_df = notification_df[(notification_df['startTime'] >= pd.to_datetime(period_start)) & (notification_df['startTime'] <= pd.to_datetime(period_end))]\n",
    "filtered_notification_df"
   ]
  },
  {
   "cell_type": "code",
   "execution_count": null,
   "metadata": {},
   "outputs": [],
   "source": [
    "motor_subsets = pre_process.run(mode=constants.MOTOR)\n",
    "print(motor_subsets)\n",
    "de_bearing_temp = motor_subsets['de_bearing_temp']"
   ]
  },
  {
   "cell_type": "code",
   "execution_count": null,
   "metadata": {},
   "outputs": [],
   "source": [
    "filtered_de = pre_process.filter_and_resample(de_bearing_temp)\n",
    "filtered_de\n"
   ]
  },
  {
   "cell_type": "code",
   "execution_count": null,
   "metadata": {},
   "outputs": [],
   "source": [
    "utils.plot_with_not(filtered_de, filtered_notification_df)"
   ]
  }
 ],
 "metadata": {
  "kernelspec": {
   "display_name": "venv",
   "language": "python",
   "name": "python3"
  },
  "language_info": {
   "codemirror_mode": {
    "name": "ipython",
    "version": 3
   },
   "file_extension": ".py",
   "mimetype": "text/x-python",
   "name": "python",
   "nbconvert_exporter": "python",
   "pygments_lexer": "ipython3",
   "version": "3.10.8"
  },
  "orig_nbformat": 4,
  "vscode": {
   "interpreter": {
    "hash": "985ce886e508a9cd35ff0eada707b21530d6d35872ac30567f69cffd3d678ca7"
   }
  }
 },
 "nbformat": 4,
 "nbformat_minor": 2
}
